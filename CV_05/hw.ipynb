{
 "cells": [
  {
   "cell_type": "markdown",
   "metadata": {},
   "source": [
    "# Task.\n",
    "\\This is a realinterview task!  \n",
    "We’vemet binary maze problem. Can you generalize it from binary maze to normal maze? Except for thechanging from binary maze to a normal maze, allother conditions remain the same. Your taskis still tofind out the shortest path from a start point to an end point. You can assume all input is valid.\n",
    "![avatar](./binary_maze.png)"
   ]
  },
  {
   "cell_type": "markdown",
   "metadata": {},
   "source": [
    "## find a short path in a binary maze"
   ]
  },
  {
   "cell_type": "code",
   "execution_count": 1,
   "metadata": {
    "ExecuteTime": {
     "end_time": "2019-05-27T09:15:37.782967Z",
     "start_time": "2019-05-27T09:15:37.478072Z"
    }
   },
   "outputs": [],
   "source": [
    "import numpy as np\n",
    "import matplotlib.pyplot as plt\n",
    "\n",
    "\n",
    "%matplotlib inline"
   ]
  },
  {
   "cell_type": "code",
   "execution_count": 2,
   "metadata": {
    "ExecuteTime": {
     "end_time": "2019-05-27T09:15:41.655344Z",
     "start_time": "2019-05-27T09:15:41.442179Z"
    },
    "code_folding": [
     0,
     6,
     7,
     27,
     31,
     51,
     59,
     71
    ]
   },
   "outputs": [],
   "source": [
    "class Node:\n",
    "    def __init__(self, pos, state):\n",
    "        self.pos = pos  # position\n",
    "        self.state = state\n",
    "\n",
    "\n",
    "class BaseMaze:\n",
    "    def __init__(self, random_maze=False, maze_graphic=None):\n",
    "        print(maze_graphic)\n",
    "        if random_maze:\n",
    "            maze = np.random.randint(low=0, high=2, size=(50, 50))\n",
    "            self.maze = self.create_maze(maze_graphic)\n",
    "        else:\n",
    "            self.maze = self.create_maze(maze_graphic)\n",
    "    \n",
    "    \n",
    "    def create_maze(self, maze):\n",
    "        rows, cols = maze.shape\n",
    "        result = np.zeros((rows, cols), dtype=Node)\n",
    "        \n",
    "        for i, row in enumerate(maze):\n",
    "            for j, col in enumerate(maze[i]):\n",
    "                result[i][j] = Node(str(i) + str(j), col)\n",
    "        \n",
    "        return result\n",
    "    \n",
    "    \n",
    "    def visualize(self, solution=0):\n",
    "        pass\n",
    "    \n",
    "    \n",
    "    def search_around(self, current_node):\n",
    "        row, col = int(current_node.pos[0]), int(current_node.pos[1])\n",
    "        rows, cols = self.maze.shape[0]-1, self.maze.shape[1]-1\n",
    "        around_nodes = {}\n",
    "        \n",
    "        # 解决在四个角落的问题\n",
    "        if row in [0, rows] and col in [0, cols]:\n",
    "            if row == 0:\n",
    "                around_nodes['down'] = self.maze[row+1][col]\n",
    "            else:\n",
    "                around_nodes['up'] = self.maze[row-1][col]\n",
    "            if col == 0:\n",
    "                around_nodes['right'] = self.maze[row][col+1]\n",
    "            else:\n",
    "                around_nodes['left'] = self.maze[row][col-1]\n",
    "                \n",
    "        if around_nodes:\n",
    "            return around_nodes\n",
    "            \n",
    "        # 解决在边线却不在角落的问题\n",
    "        if row in [0, rows]:\n",
    "            if row == 0:\n",
    "                around_nodes['down'] = self.maze[row+1][col]\n",
    "            elif row == rows:\n",
    "                around_nodes['up'] = self.maze[row-1][col]\n",
    "            around_nodes['left'] = self.maze[row][col-1]\n",
    "            around_nodes['right'] = self.maze[row][col+1]\n",
    "                \n",
    "        if col in [0, cols]:\n",
    "            if col == 0:\n",
    "                around_nodes['right'] = self.maze[row][col+1]\n",
    "            elif col == cols:\n",
    "                around_nodes['left'] = self.maze[row][col-1]\n",
    "            around_nodes['up'] = self.maze[row-1][col]\n",
    "            around_nodes['down'] = self.maze[row+1][col]\n",
    "        \n",
    "        if around_nodes:\n",
    "            return around_nodes\n",
    "\n",
    "        # 解决即不在边线也不在角落的问题\n",
    "        if row not in [0, rows] and col not in [0, cols]:\n",
    "            around_nodes['left'] = self.maze[row][col-1]\n",
    "            around_nodes['right'] = self.maze[row][col+1]\n",
    "            around_nodes['up'] = self.maze[row-1][col]\n",
    "            around_nodes['down'] = self.maze[row+1][col]\n",
    "\n",
    "        return around_nodes"
   ]
  },
  {
   "cell_type": "code",
   "execution_count": 3,
   "metadata": {
    "ExecuteTime": {
     "end_time": "2019-05-27T09:15:42.517424Z",
     "start_time": "2019-05-27T09:15:42.251244Z"
    },
    "code_folding": [
     0,
     5,
     11,
     25,
     62
    ]
   },
   "outputs": [],
   "source": [
    "class BinaryMaze(BaseMaze):\n",
    "    def __init__(self, random_maze=False, maze=None):\n",
    "#         super().__init__(random_maze, maze)\n",
    "        super(BinaryMaze, self).__init__(random_maze=random_maze, maze_graphic=maze)\n",
    "        \n",
    "    def visualize(self, solution=0):\n",
    "        '''\n",
    "        @vis_n: 0 visualize maze\n",
    "                1 visualize BFS  (to do)\n",
    "                2 visualize DFS  (to do)\n",
    "        '''\n",
    "        if solution == 0:\n",
    "            print('maze size:', self.maze.shape)\n",
    "            print('='*30, 'position', '='*30)\n",
    "            for row in range(self.maze.shape[0]):\n",
    "                for col in range(self.maze.shape[1]):\n",
    "                    print(self.maze[row, col].pos, end='\\t')\n",
    "                print()\n",
    "            print('='*30, 'state', '='*30)\n",
    "            for row in range(self.maze.shape[0]):\n",
    "                for col in range(self.maze.shape[1]):\n",
    "                    print(self.maze[row, col].state, end='\\t')\n",
    "                print()\n",
    "    \n",
    "    \n",
    "    def BFS_solution(self, start, destination):\n",
    "        '''\n",
    "        @start  string  eg: 13    the begining position\n",
    "        @destination string  eg: 45  the ending position\n",
    "        '''\n",
    "        maze = self.maze\n",
    "        start_i, start_j = int(start[0]), int(start[1])\n",
    "        dest_i, dest_j = int(destination[0]), int(destination[1])\n",
    "        dest_node = maze[dest_i, dest_j]\n",
    "        pathes = [[maze[start_i, start_j]]]\n",
    "        seen = set()\n",
    "        \n",
    "        \n",
    "        while pathes:\n",
    "            path = pathes.pop(0)\n",
    "            froniter = path[-1]\n",
    "            \n",
    "            if froniter in seen:\n",
    "                continue\n",
    "            \n",
    "            around_nodes = self.search_around(froniter)\n",
    "            successors = [node for _, node in around_nodes.items()\n",
    "                                    if node not in seen and node.state == 0 ]\n",
    "            \n",
    "            if not successors:\n",
    "                raise '未找到目标值'\n",
    "            \n",
    "            for node in successors:\n",
    "                print('standing at %s looking at %s' % (froniter.pos, node.pos))\n",
    "                if node == dest_node:\n",
    "                    return path + [node]\n",
    "                else:\n",
    "                    pathes.append(path + [node])\n",
    "            print()\n",
    "            seen.add(froniter)\n",
    "                \n",
    "                \n",
    "    def DFS_solution(self, start, destination):\n",
    "        maze = self.maze\n",
    "        \n",
    "        dest_i, dest_j = int(destination[0]), int(destination[1])\n",
    "        dest_node = maze[dest_i, dest_j]\n",
    "        \n",
    "        start_i, start_j = int(start[0]), int(start[1])\n",
    "        pathes = [maze[start_i, start_j], ]\n",
    "        seen = set()\n",
    "        path = [pathes[0].pos]\n",
    "        \n",
    "        while pathes:\n",
    "            froniter = pathes.pop(0)\n",
    "            \n",
    "            if froniter == dest_node: return path\n",
    "            \n",
    "            around_nodes = self.search_around(froniter)\n",
    "            \n",
    "            successors = [node for _, node in around_nodes.items()\n",
    "                              if node not in seen and  node.state == 0]\n",
    "            \n",
    "            \n",
    "            for node in successors:\n",
    "                path.append(node.pos)\n",
    "                print('standing at {} looking at: {}'.format(froniter.pos, node.pos))\n",
    "                if node == dest_node: return\n",
    "            print()\n",
    "            pathes += successors\n",
    "            \n",
    "            seen.add(froniter)"
   ]
  },
  {
   "cell_type": "code",
   "execution_count": 5,
   "metadata": {
    "ExecuteTime": {
     "end_time": "2019-05-27T09:30:56.842721Z",
     "start_time": "2019-05-27T09:30:56.819703Z"
    }
   },
   "outputs": [
    {
     "name": "stdout",
     "output_type": "stream",
     "text": [
      "[[1 0 1 1 1]\n",
      " [1 0 0 0 1]\n",
      " [1 0 1 0 1]\n",
      " [1 0 0 0 1]\n",
      " [1 0 1 1 1]]\n",
      "maze size: (5, 5)\n",
      "============================== position ==============================\n",
      "00\t01\t02\t03\t04\t\n",
      "10\t11\t12\t13\t14\t\n",
      "20\t21\t22\t23\t24\t\n",
      "30\t31\t32\t33\t34\t\n",
      "40\t41\t42\t43\t44\t\n",
      "============================== state ==============================\n",
      "1\t0\t1\t1\t1\t\n",
      "1\t0\t0\t0\t1\t\n",
      "1\t0\t1\t0\t1\t\n",
      "1\t0\t0\t0\t1\t\n",
      "1\t0\t1\t1\t1\t\n",
      "-------------------- DFS --------------------\n",
      "standing at 01 looking at: 11\n",
      "\n",
      "standing at 11 looking at: 12\n",
      "standing at 11 looking at: 21\n",
      "\n",
      "standing at 12 looking at: 13\n",
      "\n",
      "standing at 21 looking at: 31\n",
      "\n",
      "standing at 13 looking at: 23\n",
      "\n",
      "standing at 31 looking at: 32\n",
      "standing at 31 looking at: 41\n",
      "-------------------- BFS --------------------\n",
      "standing at 01 looking at 11\n",
      "\n",
      "standing at 11 looking at 12\n",
      "standing at 11 looking at 21\n",
      "\n",
      "standing at 12 looking at 13\n",
      "\n",
      "standing at 21 looking at 31\n",
      "\n",
      "standing at 13 looking at 23\n",
      "\n",
      "standing at 31 looking at 32\n",
      "standing at 31 looking at 41\n"
     ]
    }
   ],
   "source": [
    "# test BinaryMaze\n",
    "maze = np.array([[1, 0, 1, 1, 1],\n",
    "                 [1, 0, 0, 0, 1],\n",
    "                 [1, 0, 1, 0, 1],\n",
    "                 [1, 0, 0, 0, 1],\n",
    "                 [1, 0, 1, 1, 1]])\n",
    "\n",
    "binary_maze = BinaryMaze(random_maze=False, maze=maze)\n",
    "binary_maze.visualize()\n",
    "\n",
    "# check: DFS 和 BFS 一样？\n",
    "print('-'*20, 'DFS', '-'*20)\n",
    "shortest_path = binary_maze.DFS_solution('01', '41')\n",
    "print('-'*20, 'BFS', '-'*20)\n",
    "shortest_path = binary_maze.BFS_solution('01', '41')\n",
    "# print(shortest_path)"
   ]
  },
  {
   "cell_type": "markdown",
   "metadata": {},
   "source": [
    "## Normal maze"
   ]
  },
  {
   "cell_type": "markdown",
   "metadata": {},
   "source": [
    "## generalization task: find a short path in a normal maze"
   ]
  },
  {
   "cell_type": "code",
   "execution_count": 10,
   "metadata": {
    "ExecuteTime": {
     "end_time": "2019-05-27T10:16:27.983001Z",
     "start_time": "2019-05-27T10:16:27.973007Z"
    }
   },
   "outputs": [],
   "source": [
    "NORMAL_MAZE =  [[1, 5, 5, 5, 5],\n",
    "                [1, 0, 0, 0, 1],\n",
    "                [1, 1, 1, 1, 1],\n",
    "                [3, 0, 0, 0, 1],\n",
    "                [3, 3, 3, 3, 1]]\n",
    "\n",
    "src = (0, 0)\n",
    "dst = (4, 4)"
   ]
  },
  {
   "cell_type": "code",
   "execution_count": 23,
   "metadata": {
    "ExecuteTime": {
     "end_time": "2019-05-27T10:24:43.577226Z",
     "start_time": "2019-05-27T10:24:43.489164Z"
    }
   },
   "outputs": [],
   "source": [
    "class NormalMaze:\n",
    "    def __init__(self, maze, source, destination):\n",
    "        self.maze = maze\n",
    "        self.source = source\n",
    "        self.destination = destination\n",
    "        self.solution = self.normal_solver(self.maze, self.source, self.destination)\n",
    "        \n",
    "    def cal_cost(self, path):\n",
    "        cost = 0\n",
    "        for _ in path:\n",
    "            cost += 1\n",
    "        \n",
    "        return cost\n",
    "    \n",
    "    def normal_solver(self, maze, source, destination):\n",
    "        # if illegal\n",
    "        if not maze or not maze[0]:\n",
    "            return \"invalid maze\"\n",
    "        if maze[source[0]][source[1]] == 0 and maze[destination[0]][destination[1]] == 0:\n",
    "            return 'invalid path'\n",
    "        if source == destination:\n",
    "            return 0, [source]\n",
    "        \n",
    "        max_r = len(maze) - 1\n",
    "        max_b = len(maze[0]) - 1\n",
    "        movements = [(1, 0), (-1, 0), (0, 1), (0, -1)]\n",
    "        \n",
    "        queue = [[source]]\n",
    "        searched = {source}\n",
    "        \n",
    "        while queue:\n",
    "            path = queue.pop(0)\n",
    "            r, c = path[-1]\n",
    "            \n",
    "            if (r, c) == destination:\n",
    "                return self.cal_cost(path), '->'.join(map(str, path))\n",
    "                \n",
    "            for dr, dc in movements:\n",
    "                # 考虑边界问题 和 合法性问题\n",
    "                if  0 <= (c + dc) <= max_r and 0 <= (r + dr) <= max_b and \\\n",
    "                    (r+dr, c+dc) not in searched and maze[r+dr][c+dc] != 0:\n",
    "                        \n",
    "                    queue.append(path + [(r+dr, c+dc)])\n",
    "                    searched.add((r+dr, c+dc))\n",
    "                    queue.sort(key=self.cal_cost)\n",
    "                    \n",
    "        return 'not path found'"
   ]
  },
  {
   "cell_type": "code",
   "execution_count": 25,
   "metadata": {
    "ExecuteTime": {
     "end_time": "2019-05-27T10:24:52.798946Z",
     "start_time": "2019-05-27T10:24:52.790956Z"
    }
   },
   "outputs": [
    {
     "data": {
      "text/plain": [
       "(9, '(0, 0)->(1, 0)->(2, 0)->(3, 0)->(4, 0)->(4, 1)->(4, 2)->(4, 3)->(4, 4)')"
      ]
     },
     "execution_count": 25,
     "metadata": {},
     "output_type": "execute_result"
    }
   ],
   "source": [
    "normal_maze = NormalMaze(NORMAL_MAZE, src, dst)\n",
    "normal_maze.solution"
   ]
  },
  {
   "cell_type": "markdown",
   "metadata": {},
   "source": [
    "## To Do: Coding by C++."
   ]
  },
  {
   "cell_type": "markdown",
   "metadata": {},
   "source": [
    "# Task\n",
    "\n",
    "What you are given is a sentence like:\n",
    "“”\n",
    "I am happy and sad\n",
    "Please forget about how insane it is, just focusing on the following questions.\n",
    "And then some substitutes of some words are provided as well:\n",
    "{ {\"happy\", \"glad\"}, {\"glad\", \"good\"}, {\"sad\", \"sorrow\"} }\n",
    "which means happy can be replaced by glad while glad can continuously substituted by good and so on.\n",
    "Now, please write out all possible sentences with all substitutes. For example, by giving this specific case, your output should be like:\n",
    "    \n",
    "![avatar](./task02.bmp)  \n",
    "\n",
    "Tips:This is really a complex problem. What it tests are:\n",
    "0.For C++ player, how to separate string into words\n",
    "1. How to build graph for our substitution?\n",
    "2. How to get all substitution for all words? It’s actually a Cartesian Product, which can be completed by DFS\n",
    ".\n",
    "3. How to make sentences correctly?"
   ]
  },
  {
   "cell_type": "code",
   "execution_count": 233,
   "metadata": {
    "ExecuteTime": {
     "end_time": "2019-05-18T09:10:06.989634Z",
     "start_time": "2019-05-18T09:10:06.946055Z"
    },
    "code_folding": [
     12
    ]
   },
   "outputs": [],
   "source": [
    "corpus = [{'glad', 'happy', 'good'}, {'sad', 'sorrow'}]\n",
    "sentence = 'I am happy and sad'\n",
    "words = set(sentence.split(' '))\n",
    "\n",
    "replaced_words = []\n",
    "for _, c in enumerate(corpus):\n",
    "    same_word = c & words\n",
    "    if same_word:\n",
    "        same_word = [s for s in same_word][0]\n",
    "        replaced_words.append((same_word, list(c)))\n",
    "        \n",
    "\n",
    "def substitude_words(list_sen, replaced_words):\n",
    "    if len(replaced_words) == 0:\n",
    "        return list_sen\n",
    "    \n",
    "    replaced_word, words = replaced_words.pop(0)\n",
    "#     print(replaced_word, words)\n",
    "\n",
    "    result = []\n",
    "    for sen in list_sen:\n",
    "        for word in words:\n",
    "            sen = sen.replace(replaced_word, word)\n",
    "            replaced_word = word\n",
    "            result.append(sen)\n",
    "\n",
    "    list_sen += result\n",
    "    list_sen = list(set(list_sen))\n",
    "    \n",
    "    return substitude_words(list_sen, replaced_words)"
   ]
  },
  {
   "cell_type": "markdown",
   "metadata": {},
   "source": [
    "    1. How to build graph for our substitution?"
   ]
  },
  {
   "cell_type": "code",
   "execution_count": 231,
   "metadata": {
    "ExecuteTime": {
     "end_time": "2019-05-18T09:09:24.678998Z",
     "start_time": "2019-05-18T09:09:24.306181Z"
    }
   },
   "outputs": [],
   "source": [
    "import pandas as pd"
   ]
  },
  {
   "cell_type": "code",
   "execution_count": 249,
   "metadata": {
    "ExecuteTime": {
     "end_time": "2019-05-18T09:34:26.324783Z",
     "start_time": "2019-05-18T09:34:26.275426Z"
    }
   },
   "outputs": [
    {
     "data": {
      "text/html": [
       "<div>\n",
       "<style scoped>\n",
       "    .dataframe tbody tr th:only-of-type {\n",
       "        vertical-align: middle;\n",
       "    }\n",
       "\n",
       "    .dataframe tbody tr th {\n",
       "        vertical-align: top;\n",
       "    }\n",
       "\n",
       "    .dataframe thead th {\n",
       "        text-align: right;\n",
       "    }\n",
       "</style>\n",
       "<table border=\"1\" class=\"dataframe\">\n",
       "  <thead>\n",
       "    <tr style=\"text-align: right;\">\n",
       "      <th></th>\n",
       "      <th>negative</th>\n",
       "      <th>positive</th>\n",
       "    </tr>\n",
       "  </thead>\n",
       "  <tbody>\n",
       "    <tr>\n",
       "      <th>0</th>\n",
       "      <td>sorrow</td>\n",
       "      <td>glad</td>\n",
       "    </tr>\n",
       "    <tr>\n",
       "      <th>1</th>\n",
       "      <td>sad</td>\n",
       "      <td>happy</td>\n",
       "    </tr>\n",
       "    <tr>\n",
       "      <th>2</th>\n",
       "      <td>NaN</td>\n",
       "      <td>good</td>\n",
       "    </tr>\n",
       "  </tbody>\n",
       "</table>\n",
       "</div>"
      ],
      "text/plain": [
       "  negative positive\n",
       "0   sorrow     glad\n",
       "1      sad    happy\n",
       "2      NaN     good"
      ]
     },
     "execution_count": 249,
     "metadata": {},
     "output_type": "execute_result"
    }
   ],
   "source": [
    "categories = ('positive', 'negative')\n",
    "\n",
    "data= {}\n",
    "max_len = 0\n",
    "for cate, words in zip(categories, replaced_words):\n",
    "    data[cate] = [words[0]]\n",
    "    for word in words[1]:\n",
    "        data[cate].append(word)\n",
    "    data[cate] = list(set(data[cate]))\n",
    "    if len(data[cate]) > max_len:\n",
    "        max_len = len(data[cate])\n",
    "\n",
    "for cate in data:\n",
    "    if len(data[cate]) < max_len:\n",
    "        for i in range(len(data), max_len):\n",
    "            data[cate].append(np.NaN)\n",
    "    \n",
    "data = pd.DataFrame(data=data, )\n",
    "data"
   ]
  },
  {
   "cell_type": "code",
   "execution_count": 274,
   "metadata": {
    "ExecuteTime": {
     "end_time": "2019-05-18T10:56:19.892637Z",
     "start_time": "2019-05-18T10:56:19.885634Z"
    }
   },
   "outputs": [
    {
     "name": "stdout",
     "output_type": "stream",
     "text": [
      "I am happy and sad\n"
     ]
    }
   ],
   "source": [
    "replaced_sentences = [sentence]\n",
    "\n",
    "sens = substitude_words(replaced_sentences, replaced_words)\n",
    "\n",
    "for sen in sens:\n",
    "    print(sen)"
   ]
  },
  {
   "cell_type": "markdown",
   "metadata": {},
   "source": [
    "    2. How to get all substitution for all words? It’s actually a Cartesian Product, which can be completed by DFS .\n",
    "Sorry, I can't."
   ]
  },
  {
   "cell_type": "markdown",
   "metadata": {},
   "source": [
    "    3. How to make sentences correctly?"
   ]
  },
  {
   "cell_type": "code",
   "execution_count": 26,
   "metadata": {
    "ExecuteTime": {
     "end_time": "2019-05-27T10:28:29.901090Z",
     "start_time": "2019-05-27T10:28:29.867064Z"
    }
   },
   "outputs": [
    {
     "ename": "NameError",
     "evalue": "name 'sens' is not defined",
     "output_type": "error",
     "traceback": [
      "\u001b[1;31m---------------------------------------------------------------------------\u001b[0m",
      "\u001b[1;31mNameError\u001b[0m                                 Traceback (most recent call last)",
      "\u001b[1;32m<ipython-input-26-ee488f72a3a7>\u001b[0m in \u001b[0;36m<module>\u001b[1;34m()\u001b[0m\n\u001b[0;32m      1\u001b[0m \u001b[0mcorrected_words\u001b[0m \u001b[1;33m=\u001b[0m \u001b[1;33m{\u001b[0m\u001b[1;33m}\u001b[0m\u001b[1;33m\u001b[0m\u001b[0m\n\u001b[0;32m      2\u001b[0m \u001b[1;33m\u001b[0m\u001b[0m\n\u001b[1;32m----> 3\u001b[1;33m \u001b[1;32mfor\u001b[0m \u001b[0msen\u001b[0m \u001b[1;32min\u001b[0m \u001b[0msens\u001b[0m\u001b[1;33m:\u001b[0m\u001b[1;33m\u001b[0m\u001b[0m\n\u001b[0m\u001b[0;32m      4\u001b[0m     \u001b[0mwords\u001b[0m \u001b[1;33m=\u001b[0m \u001b[0msen\u001b[0m\u001b[1;33m.\u001b[0m\u001b[0msplit\u001b[0m\u001b[1;33m(\u001b[0m\u001b[1;34m' '\u001b[0m\u001b[1;33m)\u001b[0m\u001b[1;33m\u001b[0m\u001b[0m\n\u001b[0;32m      5\u001b[0m     \u001b[0mprint\u001b[0m\u001b[1;33m(\u001b[0m\u001b[0mwords\u001b[0m\u001b[1;33m.\u001b[0m\u001b[0mindex\u001b[0m\u001b[1;33m(\u001b[0m\u001b[1;34m'and'\u001b[0m\u001b[1;33m)\u001b[0m\u001b[1;33m)\u001b[0m\u001b[1;33m\u001b[0m\u001b[0m\n",
      "\u001b[1;31mNameError\u001b[0m: name 'sens' is not defined"
     ]
    }
   ],
   "source": [
    "corrected_words = {}\n",
    "\n",
    "for sen in sens:\n",
    "    words = sen.split(' ')\n",
    "    print(words.index('and'))\n",
    "    try:\n",
    "        and_pos = words.index('and')\n",
    "        previous = words[and_pos-1]\n",
    "        _next = words[and_pos+1]\n",
    "        for cate in data:\n",
    "            if previous in list(data[cate]):\n",
    "                cate1 = cate\n",
    "            if _next in list(data[cate]):\n",
    "                cate2 = cate\n",
    "        \n",
    "        if cate1 == cate2:\n",
    "            print('Sentence is not needed to be corrected.')\n",
    "        else:\n",
    "            '''To do: 需要判断整个句子的情感来进行选择合适替换词'''\n",
    "            substitutions = [w for w in data[cate1] if w != previous]\n",
    "            words[and_pos+1] = substitutions[-1]\n",
    "            new_sen = ' '.join(words)\n",
    "            print(new_sen)\n",
    "    except Exception:\n",
    "        print('Correcting sentence is failure.')"
   ]
  },
  {
   "cell_type": "markdown",
   "metadata": {},
   "source": [
    "## build graph"
   ]
  },
  {
   "cell_type": "code",
   "execution_count": 7,
   "metadata": {
    "ExecuteTime": {
     "end_time": "2019-05-28T10:23:24.367303Z",
     "start_time": "2019-05-28T10:23:24.364300Z"
    }
   },
   "outputs": [],
   "source": [
    "sentence = \"I am happy and sad.\"\n",
    "substituted_list = [['happy', 'glad'], ['glad', 'good'], ['glad', 'great'], ['sad', 'sorrow']]"
   ]
  },
  {
   "cell_type": "code",
   "execution_count": 8,
   "metadata": {
    "ExecuteTime": {
     "end_time": "2019-05-28T10:23:25.151918Z",
     "start_time": "2019-05-28T10:23:25.143925Z"
    },
    "code_folding": [
     0
    ]
   },
   "outputs": [],
   "source": [
    "def build_graph(substituted_list):\n",
    "    graph = {}\n",
    "    \n",
    "    for start, end in substituted_list:\n",
    "        if start not in graph:\n",
    "            graph[start] = [end]\n",
    "        else:\n",
    "            graph[start].append(end)\n",
    "    \n",
    "    return graph"
   ]
  },
  {
   "cell_type": "code",
   "execution_count": 9,
   "metadata": {
    "ExecuteTime": {
     "end_time": "2019-05-28T10:23:25.851039Z",
     "start_time": "2019-05-28T10:23:25.848036Z"
    }
   },
   "outputs": [],
   "source": [
    "graph = build_graph(substituted_list)"
   ]
  },
  {
   "cell_type": "code",
   "execution_count": 10,
   "metadata": {
    "ExecuteTime": {
     "end_time": "2019-05-28T10:23:26.546252Z",
     "start_time": "2019-05-28T10:23:26.527239Z"
    }
   },
   "outputs": [],
   "source": [
    "def dfs(graph, root):\n",
    "    queue = [[root]]\n",
    "    \n",
    "    searched = {root}\n",
    "    results = set()\n",
    "    \n",
    "    while queue:\n",
    "        path = queue.pop()\n",
    "        node = path[-1]\n",
    "        searched.add(node)\n",
    "        \n",
    "        if node in graph:\n",
    "            for des in graph[node]:\n",
    "                queue.append(path + [des])\n",
    "        else:\n",
    "#             print(results, path)\n",
    "            results = results | set(path)\n",
    "        \n",
    "    return list(results)"
   ]
  },
  {
   "cell_type": "code",
   "execution_count": 11,
   "metadata": {
    "ExecuteTime": {
     "end_time": "2019-05-28T10:23:27.214820Z",
     "start_time": "2019-05-28T10:23:27.195807Z"
    }
   },
   "outputs": [
    {
     "data": {
      "text/plain": [
       "['great', 'good', 'happy', 'glad']"
      ]
     },
     "execution_count": 11,
     "metadata": {},
     "output_type": "execute_result"
    }
   ],
   "source": [
    "dfs(graph, 'happy')"
   ]
  },
  {
   "cell_type": "code",
   "execution_count": 12,
   "metadata": {
    "ExecuteTime": {
     "end_time": "2019-05-28T10:23:27.872225Z",
     "start_time": "2019-05-28T10:23:27.867235Z"
    }
   },
   "outputs": [
    {
     "data": {
      "text/plain": [
       "['sorrow', 'sad']"
      ]
     },
     "execution_count": 12,
     "metadata": {},
     "output_type": "execute_result"
    }
   ],
   "source": [
    "dfs(graph, 'sad')"
   ]
  },
  {
   "cell_type": "code",
   "execution_count": 13,
   "metadata": {
    "ExecuteTime": {
     "end_time": "2019-05-28T10:23:28.541361Z",
     "start_time": "2019-05-28T10:23:28.519345Z"
    }
   },
   "outputs": [],
   "source": [
    "def cartesian_join(set_list):\n",
    "    # [['I'], ['am'], ['happy', 'glad', 'good', 'great'], ['and'], ['sad.']]\n",
    "    def dfs1(curr_list, set_idx):\n",
    "        if set_idx == len(curr_list):\n",
    "            word = curr_list\n",
    "            res.append(word)\n",
    "        for v in curr_list:\n",
    "            res.append(res + [v], set_idx + 1)\n",
    "    \n",
    "    res = []\n",
    "    dfs1([], 0)\n",
    "    return res\n",
    "\n",
    "def sentences_combination(sentence, substituted_list):\n",
    "    words = sentence.split()\n",
    "    \n",
    "    graph = build_graph(substituted_list)\n",
    "    product_list = [dfs(word) for word in words]\n",
    "    sentences = [w for w in words if cartesian_join(w)]\n",
    "    \n",
    "    return sentences"
   ]
  },
  {
   "cell_type": "code",
   "execution_count": 14,
   "metadata": {
    "ExecuteTime": {
     "end_time": "2019-05-28T10:23:29.277494Z",
     "start_time": "2019-05-28T10:23:29.264488Z"
    }
   },
   "outputs": [],
   "source": [
    "def cartesian_product(setList):\n",
    "    def dfs1(curr_list, set_idx):\n",
    "        if set_idx == len(setList):\n",
    "            res.append(curr_list)\n",
    "            return\n",
    "        for v in setList[set_idx]:\n",
    "            dfs1(curr_list+[v], set_idx+1)\n",
    "    res = []\n",
    "    dfs1([], 0)\n",
    "    return res"
   ]
  },
  {
   "cell_type": "code",
   "execution_count": 15,
   "metadata": {
    "ExecuteTime": {
     "end_time": "2019-05-28T10:23:30.141733Z",
     "start_time": "2019-05-28T10:23:30.133728Z"
    }
   },
   "outputs": [],
   "source": [
    "def sentences_combination(sentence, substitute_list):\n",
    "    sentence_split = sentence.split(' ')\n",
    "    graph = build_graph(substitute_list)\n",
    "    product_list = [dfs(graph, word) for word in sentence_split]\n",
    "    print('product_list', product_list)\n",
    "    results = [' '.join(split_sentences) for split_sentences in cartesian_product(product_list)]\n",
    "    return results"
   ]
  },
  {
   "cell_type": "code",
   "execution_count": 16,
   "metadata": {
    "ExecuteTime": {
     "end_time": "2019-05-28T10:23:31.238812Z",
     "start_time": "2019-05-28T10:23:31.230804Z"
    }
   },
   "outputs": [
    {
     "name": "stdout",
     "output_type": "stream",
     "text": [
      "product_list [['I'], ['am'], ['great', 'good', 'happy', 'glad'], ['and'], ['sad.']]\n"
     ]
    },
    {
     "data": {
      "text/plain": [
       "['I am great and sad.',\n",
       " 'I am good and sad.',\n",
       " 'I am happy and sad.',\n",
       " 'I am glad and sad.']"
      ]
     },
     "execution_count": 16,
     "metadata": {},
     "output_type": "execute_result"
    }
   ],
   "source": [
    "sentences_combination(sentence, substituted_list)"
   ]
  },
  {
   "cell_type": "markdown",
   "metadata": {},
   "source": [
    "## To Do: Coding by C++."
   ]
  }
 ],
 "metadata": {
  "hide_input": false,
  "kernelspec": {
   "display_name": "Python 3",
   "language": "python",
   "name": "python3"
  },
  "language_info": {
   "codemirror_mode": {
    "name": "ipython",
    "version": 3
   },
   "file_extension": ".py",
   "mimetype": "text/x-python",
   "name": "python",
   "nbconvert_exporter": "python",
   "pygments_lexer": "ipython3",
   "version": "3.6.4"
  },
  "latex_envs": {
   "LaTeX_envs_menu_present": true,
   "autoclose": false,
   "autocomplete": true,
   "bibliofile": "biblio.bib",
   "cite_by": "apalike",
   "current_citInitial": 1,
   "eqLabelWithNumbers": true,
   "eqNumInitial": 1,
   "hotkeys": {
    "equation": "Ctrl-E",
    "itemize": "Ctrl-I"
   },
   "labels_anchors": false,
   "latex_user_defs": false,
   "report_style_numbering": false,
   "user_envs_cfg": false
  },
  "toc": {
   "base_numbering": 1,
   "nav_menu": {},
   "number_sections": true,
   "sideBar": true,
   "skip_h1_title": false,
   "title_cell": "Table of Contents",
   "title_sidebar": "Contents",
   "toc_cell": false,
   "toc_position": {},
   "toc_section_display": true,
   "toc_window_display": false
  },
  "varInspector": {
   "cols": {
    "lenName": 16,
    "lenType": 16,
    "lenVar": 40
   },
   "kernels_config": {
    "python": {
     "delete_cmd_postfix": "",
     "delete_cmd_prefix": "del ",
     "library": "var_list.py",
     "varRefreshCmd": "print(var_dic_list())"
    },
    "r": {
     "delete_cmd_postfix": ") ",
     "delete_cmd_prefix": "rm(",
     "library": "var_list.r",
     "varRefreshCmd": "cat(var_dic_list()) "
    }
   },
   "types_to_exclude": [
    "module",
    "function",
    "builtin_function_or_method",
    "instance",
    "_Feature"
   ],
   "window_display": false
  }
 },
 "nbformat": 4,
 "nbformat_minor": 2
}
