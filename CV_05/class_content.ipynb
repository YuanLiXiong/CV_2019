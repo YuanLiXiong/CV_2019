{
 "cells": [
  {
   "cell_type": "code",
   "execution_count": 1,
   "metadata": {
    "ExecuteTime": {
     "end_time": "2019-05-04T00:31:35.021582Z",
     "start_time": "2019-05-04T00:31:34.903399Z"
    }
   },
   "outputs": [
    {
     "ename": "NameError",
     "evalue": "name '哈希排序' is not defined",
     "output_type": "error",
     "traceback": [
      "\u001b[1;31m---------------------------------------------------------------------------\u001b[0m",
      "\u001b[1;31mNameError\u001b[0m                                 Traceback (most recent call last)",
      "\u001b[1;32m<ipython-input-1-ed95ebe8e314>\u001b[0m in \u001b[0;36m<module>\u001b[1;34m()\u001b[0m\n\u001b[1;32m----> 1\u001b[1;33m \u001b[0m哈希排序\u001b[0m\u001b[1;33m\u001b[0m\u001b[0m\n\u001b[0m",
      "\u001b[1;31mNameError\u001b[0m: name '哈希排序' is not defined"
     ]
    }
   ],
   "source": [
    "C++哈希排序\n",
    "两种解决方案\n",
    "1.增加内存\n",
    "2.寻找最近的位置\n",
    "\n",
    "快排：数组和链表"
   ]
  },
  {
   "cell_type": "code",
   "execution_count": 2,
   "metadata": {
    "ExecuteTime": {
     "end_time": "2019-05-04T00:49:18.684716Z",
     "start_time": "2019-05-04T00:49:18.678847Z"
    }
   },
   "outputs": [
    {
     "ename": "SyntaxError",
     "evalue": "invalid character in identifier (<ipython-input-2-cb7e0e8dff80>, line 1)",
     "output_type": "error",
     "traceback": [
      "\u001b[1;36m  File \u001b[1;32m\"<ipython-input-2-cb7e0e8dff80>\"\u001b[1;36m, line \u001b[1;32m1\u001b[0m\n\u001b[1;33m    普通排序： nlogn\u001b[0m\n\u001b[1;37m        ^\u001b[0m\n\u001b[1;31mSyntaxError\u001b[0m\u001b[1;31m:\u001b[0m invalid character in identifier\n"
     ]
    }
   ],
   "source": [
    "普通排序： nlogn\n",
    "\n",
    "优先队列：k表示第 k 大的数\n",
    "nlogk"
   ]
  },
  {
   "cell_type": "code",
   "execution_count": 3,
   "metadata": {
    "ExecuteTime": {
     "end_time": "2019-05-04T01:55:33.813051Z",
     "start_time": "2019-05-04T01:55:33.801028Z"
    }
   },
   "outputs": [
    {
     "ename": "NameError",
     "evalue": "name '智能指针' is not defined",
     "output_type": "error",
     "traceback": [
      "\u001b[1;31m---------------------------------------------------------------------------\u001b[0m",
      "\u001b[1;31mNameError\u001b[0m                                 Traceback (most recent call last)",
      "\u001b[1;32m<ipython-input-3-bfacc6b1abf4>\u001b[0m in \u001b[0;36m<module>\u001b[1;34m()\u001b[0m\n\u001b[1;32m----> 1\u001b[1;33m \u001b[0m智能指针\u001b[0m\u001b[1;33m\u001b[0m\u001b[0m\n\u001b[0m\u001b[0;32m      2\u001b[0m \u001b[0m虚函数\u001b[0m\u001b[1;33m/\u001b[0m\u001b[0m表\u001b[0m\u001b[1;33m\u001b[0m\u001b[0m\n\u001b[0;32m      3\u001b[0m \u001b[0mlamda\u001b[0m\u001b[1;33m\u001b[0m\u001b[0m\n",
      "\u001b[1;31mNameError\u001b[0m: name '智能指针' is not defined"
     ]
    }
   ],
   "source": [
    "***智能指针\n",
    "***虚函数/表\n",
    "***lamda"
   ]
  },
  {
   "cell_type": "markdown",
   "metadata": {
    "ExecuteTime": {
     "end_time": "2019-05-04T02:25:29.058105Z",
     "start_time": "2019-05-04T02:25:29.050751Z"
    }
   },
   "source": [
    "*** 树遍历 ***  \n",
    "递归和遍历"
   ]
  },
  {
   "cell_type": "markdown",
   "metadata": {},
   "source": [
    "C++:\n",
    "const  <=> 变量\n",
    "指针\n",
    "函数\n",
    "\n",
    "google binary maze\n",
    "geeksforgeeks\n",
    "\n",
    "normal maze\n"
   ]
  },
  {
   "cell_type": "markdown",
   "metadata": {},
   "source": [
    "458\n",
    "14\n",
    "460\n",
    "67\n",
    "66\n",
    "68\n",
    "69\n",
    "71\n",
    "93\n",
    "95\n",
    "35\n",
    "165\n",
    "141\n",
    "428\n",
    "433\n",
    "434\n",
    "303\n",
    "304 \n",
    "77\n",
    "132"
   ]
  },
  {
   "cell_type": "markdown",
   "metadata": {},
   "source": [
    "快排 O(n)"
   ]
  },
  {
   "cell_type": "markdown",
   "metadata": {},
   "source": [
    "if (r<)\n",
    "\n",
    "if (i == 1) && (j == 1)\n",
    "    interalMatrix[i][j] += interalMatrix[i-1]\n",
    "    \n",
    "interalMatrix[i][j] += interalMatrix[i-1]\n"
   ]
  },
  {
   "cell_type": "code",
   "execution_count": null,
   "metadata": {},
   "outputs": [],
   "source": [
    "428\n",
    "\n",
    "int res = 1;\n",
    "int tmp = x;\n",
    "while(n)\n",
    "{\n",
    "    if (n&1)\n",
    "    {\n",
    "        res *= tmp;\n",
    "    }\n",
    "    tmp *= tmp;\n",
    "    n >>= 1;\n",
    "}\n",
    "return res;"
   ]
  }
 ],
 "metadata": {
  "hide_input": false,
  "kernelspec": {
   "display_name": "Python 3",
   "language": "python",
   "name": "python3"
  },
  "language_info": {
   "codemirror_mode": {
    "name": "ipython",
    "version": 3
   },
   "file_extension": ".py",
   "mimetype": "text/x-python",
   "name": "python",
   "nbconvert_exporter": "python",
   "pygments_lexer": "ipython3",
   "version": "3.6.4"
  },
  "latex_envs": {
   "LaTeX_envs_menu_present": true,
   "autoclose": false,
   "autocomplete": true,
   "bibliofile": "biblio.bib",
   "cite_by": "apalike",
   "current_citInitial": 1,
   "eqLabelWithNumbers": true,
   "eqNumInitial": 1,
   "hotkeys": {
    "equation": "Ctrl-E",
    "itemize": "Ctrl-I"
   },
   "labels_anchors": false,
   "latex_user_defs": false,
   "report_style_numbering": false,
   "user_envs_cfg": false
  },
  "toc": {
   "base_numbering": 1,
   "nav_menu": {},
   "number_sections": true,
   "sideBar": true,
   "skip_h1_title": false,
   "title_cell": "Table of Contents",
   "title_sidebar": "Contents",
   "toc_cell": false,
   "toc_position": {},
   "toc_section_display": true,
   "toc_window_display": false
  },
  "varInspector": {
   "cols": {
    "lenName": 16,
    "lenType": 16,
    "lenVar": 40
   },
   "kernels_config": {
    "python": {
     "delete_cmd_postfix": "",
     "delete_cmd_prefix": "del ",
     "library": "var_list.py",
     "varRefreshCmd": "print(var_dic_list())"
    },
    "r": {
     "delete_cmd_postfix": ") ",
     "delete_cmd_prefix": "rm(",
     "library": "var_list.r",
     "varRefreshCmd": "cat(var_dic_list()) "
    }
   },
   "types_to_exclude": [
    "module",
    "function",
    "builtin_function_or_method",
    "instance",
    "_Feature"
   ],
   "window_display": false
  }
 },
 "nbformat": 4,
 "nbformat_minor": 2
}
