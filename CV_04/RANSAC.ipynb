{
 "cells": [
  {
   "cell_type": "code",
   "execution_count": 2,
   "metadata": {
    "ExecuteTime": {
     "end_time": "2019-04-26T04:52:00.359741Z",
     "start_time": "2019-04-26T04:51:58.697891Z"
    }
   },
   "outputs": [],
   "source": [
    "import numpy as np\n",
    "import matplotlib.pyplot as plt\n",
    "import cv2\n",
    "\n",
    "%matplotlib inline"
   ]
  },
  {
   "cell_type": "code",
   "execution_count": 58,
   "metadata": {
    "ExecuteTime": {
     "end_time": "2019-04-26T09:00:58.163232Z",
     "start_time": "2019-04-26T09:00:58.107130Z"
    }
   },
   "outputs": [],
   "source": [
    "def gen_data(img01, img02):\n",
    "    sift = cv2.xfeatures2d.SIFT_create()\n",
    "    matcher = cv2.BFMatcher_create()\n",
    "    \n",
    "    kp01, des01 = sift.detectAndCompute(img01, None)\n",
    "    kp02, des02 = sift.detectAndCompute(img02, None)\n",
    "    matches = matcher.match(des01, des02)\n",
    "    \n",
    "    return kp01, kp02, matches\n",
    "\n",
    "def cal_per_error(src_pts, dst_pts, M, n):\n",
    "    '''\n",
    "        重新计算重投影误差\n",
    "    '''\n",
    "    \n",
    "    pts = np.ones([n, 3])\n",
    "    pts[:, :2] = src_pts\n",
    "    \n",
    "    per_pts = pts @ M\n",
    "    for i, _ in enumerate(src_pts):\n",
    "        src_pts[i] = pts[i, :2] / pts[i, 2]\n",
    "    \n",
    "    error = src_pts - dst_pts\n",
    "    \n",
    "    return dst_pts.sum()"
   ]
  },
  {
   "cell_type": "code",
   "execution_count": 79,
   "metadata": {
    "ExecuteTime": {
     "end_time": "2019-04-26T15:15:18.042735Z",
     "start_time": "2019-04-26T15:15:17.965898Z"
    }
   },
   "outputs": [],
   "source": [
    "def RANSAC(kp01, kp02, matches, W=0.5, P=0.995, thre=0.7, n=4):\n",
    "    '''\n",
    "        @param pts: (-1, 1, 2)\n",
    "        @param matches\n",
    "        @param W: 内点比例\n",
    "        @param P: 内点的自信力阈值\n",
    "        @param thre: 内点阈值\n",
    "        @param n: 选择计算单应矩阵的点对的数量\n",
    "        \n",
    "        return good matches by ransac\n",
    "    '''\n",
    "    num_matches = len(matches)\n",
    "    \n",
    "    # 初始化内点，随机选取 1/3 匹配的点作为内点\n",
    "    in_pair = [matches[i] for i in np.random.choice(np.arange(num_matches), int(num_matches*0.33))]\n",
    "    it = 0\n",
    "    k = 10\n",
    "    \n",
    "    while it < k:\n",
    "        m_idxs = np.random.choice(np.arange(num_matches), int(n)).astype(np.int32)\n",
    "        \n",
    "        mm = [matches[i] for i in m_idxs]  # m matches\n",
    "        cal_ps01 = np.float32([kp01[m.queryIdx].pt for m in mm]).reshape([-1, 2])\n",
    "        cal_ps02 = np.float32([kp02[m.queryIdx].pt for m in mm]).reshape([-1, 2])\n",
    "        \n",
    "        \n",
    "        M, mask = cv2.findHomography(cal_ps01, cal_ps02)\n",
    "        # todo: calculate the error for perspective pts again\n",
    "        error = cal_per_error(cal_ps01, cal_ps02, M, n)\n",
    "        \n",
    "        \n",
    "        W = len(in_pair) / num_matches\n",
    "        k = np.log(1- P) / np.log(1 - np.power(W, n))\n",
    "        \n",
    "        if error < thre:\n",
    "            in_pair += [m for m in mm if m not in in_pair]\n",
    "        \n",
    "        it += 1\n",
    "        \n",
    "    return in_pair"
   ]
  },
  {
   "cell_type": "code",
   "execution_count": 80,
   "metadata": {
    "ExecuteTime": {
     "end_time": "2019-04-26T15:15:19.357131Z",
     "start_time": "2019-04-26T15:15:18.812975Z"
    }
   },
   "outputs": [
    {
     "name": "stdout",
     "output_type": "stream",
     "text": [
      "(537, 128) (1262, 128)\n",
      "177\n"
     ]
    }
   ],
   "source": [
    "img01 = cv2.imread('../data/match_0.jpg', 0)\n",
    "img02 = cv2.imread('../data/match_1.jpg', 0)\n",
    "\n",
    "kp01, kp02, matches = gen_data(img01, img02)\n",
    "ransac_matches = RANSAC(kp01, kp02, matches)\n",
    "\n",
    "print(len(ransac_matches))"
   ]
  }
 ],
 "metadata": {
  "hide_input": false,
  "kernelspec": {
   "display_name": "Python 3",
   "language": "python",
   "name": "python3"
  },
  "language_info": {
   "codemirror_mode": {
    "name": "ipython",
    "version": 3
   },
   "file_extension": ".py",
   "mimetype": "text/x-python",
   "name": "python",
   "nbconvert_exporter": "python",
   "pygments_lexer": "ipython3",
   "version": "3.6.4"
  },
  "latex_envs": {
   "LaTeX_envs_menu_present": true,
   "autoclose": false,
   "autocomplete": true,
   "bibliofile": "biblio.bib",
   "cite_by": "apalike",
   "current_citInitial": 1,
   "eqLabelWithNumbers": true,
   "eqNumInitial": 1,
   "hotkeys": {
    "equation": "Ctrl-E",
    "itemize": "Ctrl-I"
   },
   "labels_anchors": false,
   "latex_user_defs": false,
   "report_style_numbering": false,
   "user_envs_cfg": false
  },
  "toc": {
   "base_numbering": 1,
   "nav_menu": {},
   "number_sections": true,
   "sideBar": true,
   "skip_h1_title": false,
   "title_cell": "Table of Contents",
   "title_sidebar": "Contents",
   "toc_cell": false,
   "toc_position": {},
   "toc_section_display": true,
   "toc_window_display": false
  },
  "varInspector": {
   "cols": {
    "lenName": 16,
    "lenType": 16,
    "lenVar": 40
   },
   "kernels_config": {
    "python": {
     "delete_cmd_postfix": "",
     "delete_cmd_prefix": "del ",
     "library": "var_list.py",
     "varRefreshCmd": "print(var_dic_list())"
    },
    "r": {
     "delete_cmd_postfix": ") ",
     "delete_cmd_prefix": "rm(",
     "library": "var_list.r",
     "varRefreshCmd": "cat(var_dic_list()) "
    }
   },
   "types_to_exclude": [
    "module",
    "function",
    "builtin_function_or_method",
    "instance",
    "_Feature"
   ],
   "window_display": false
  }
 },
 "nbformat": 4,
 "nbformat_minor": 2
}
